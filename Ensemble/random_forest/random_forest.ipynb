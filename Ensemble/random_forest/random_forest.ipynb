{
 "cells": [
  {
   "cell_type": "markdown",
   "metadata": {},
   "source": [
    "sorce[https://machinelearningmastery.com/bagging-and-random-forest-ensemble-algorithms-for-machine-learning/]"
   ]
  },
  {
   "cell_type": "markdown",
   "metadata": {},
   "source": [
    "## What is Random Forest ?\n",
    "random forest は 最もpopulerで強力な machine learning のアルゴリズム の一つです.  \n",
    "これは, Bootstrap Aggregation または,Bagging と呼ばれる ensamble ML Algorithm である"
   ]
  },
  {
   "cell_type": "markdown",
   "metadata": {},
   "source": [
    "以下のことを学習する\n",
    "- The bootstrap method for estimating statistical quantities from samples.\n",
    "    > 標本から統計量を見積もるための bootstrap 法\n",
    "- The Bootstrap Aggregation algorithm for creating multiple different models from a single training dataset.\n",
    "    > 単一のtraining dataset から複数の異なるモデルを精製するためのbootstrap 集約アルゴリズム \n",
    "- The Random Forest algorithm that makes a small tweak to Bagging and results in a very powerful classifier.\n",
    "    > Baggingを微調整した Random Forest Algorithm と 非常に強力な分類器となる結果"
   ]
  },
  {
   "cell_type": "markdown",
   "metadata": {},
   "source": [
    "### Bootstrap Method\n",
    "Bagging について学ぶ前に, Bootstrap Method と呼ばれる重要で基礎となる技術について学ぶ  \n",
    "\n",
    "Bootstrap は強力な統計的な方法である"
   ]
  },
  {
   "cell_type": "code",
   "execution_count": null,
   "metadata": {},
   "outputs": [],
   "source": []
  },
  {
   "cell_type": "code",
   "execution_count": null,
   "metadata": {},
   "outputs": [],
   "source": []
  }
 ],
 "metadata": {
  "kernelspec": {
   "display_name": "Python 3",
   "language": "python",
   "name": "python3"
  },
  "language_info": {
   "codemirror_mode": {
    "name": "ipython",
    "version": 3
   },
   "file_extension": ".py",
   "mimetype": "text/x-python",
   "name": "python",
   "nbconvert_exporter": "python",
   "pygments_lexer": "ipython3",
   "version": "3.6.5"
  }
 },
 "nbformat": 4,
 "nbformat_minor": 2
}
